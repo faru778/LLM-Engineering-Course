{
 "cells": [
  {
   "cell_type": "code",
   "execution_count": 14,
   "id": "ac2a7f68-c4fb-422d-a9e1-281ea63056a9",
   "metadata": {},
   "outputs": [],
   "source": [
    "# imports\n",
    "\n",
    "import requests\n",
    "from bs4 import BeautifulSoup\n",
    "from IPython.display import Markdown, display\n",
    "import ollama"
   ]
  },
  {
   "cell_type": "code",
   "execution_count": 15,
   "id": "475f015f-67b5-4b5c-9782-ad03c9914a79",
   "metadata": {},
   "outputs": [],
   "source": [
    "MODEL = \"llama3.2\""
   ]
  },
  {
   "cell_type": "code",
   "execution_count": 24,
   "id": "55003a87-71e8-4bd3-8de4-afb326fcbafa",
   "metadata": {},
   "outputs": [],
   "source": [
    "# A class to represent a Webpage\n",
    "# If you're not familiar with Classes, check out the \"Intermediate Python\" notebook\n",
    "\n",
    "# Some websites need you to use proper headers when fetching them:\n",
    "headers = {\n",
    " \"User-Agent\": \"Mozilla/5.0 (Windows NT 10.0; Win64; x64) AppleWebKit/537.36 (KHTML, like Gecko) Chrome/117.0.0.0 Safari/537.36\"\n",
    "}\n",
    "\n",
    "class Website:\n",
    "\n",
    "    def __init__(self, url):\n",
    "        \"\"\"\n",
    "        Create this Website object from the given url using the BeautifulSoup library\n",
    "        \"\"\"\n",
    "        self.url = url\n",
    "        response = requests.get(url, headers=headers)\n",
    "        soup = BeautifulSoup(response.content, 'html.parser')\n",
    "        self.title = soup.title.string if soup.title else \"No title found\"\n",
    "        for irrelevant in soup.body([\"script\", \"style\", \"img\", \"input\"]):\n",
    "            irrelevant.decompose()\n",
    "        self.text = soup.body.get_text(separator=\"\\n\", strip=True)"
   ]
  },
  {
   "cell_type": "code",
   "execution_count": 25,
   "id": "07614ea4-5568-44b8-bbdd-a438aa723dd8",
   "metadata": {},
   "outputs": [],
   "source": [
    "# Let's try one out\n",
    "\n",
    "ed = Website(\"https://edwarddonner.com\")\n",
    "# print(ed.title)\n",
    "# print(ed.text)"
   ]
  },
  {
   "cell_type": "code",
   "execution_count": 59,
   "id": "3a664b28-38a7-4fd1-a5ee-932f2f2f2410",
   "metadata": {},
   "outputs": [],
   "source": [
    "# Define our system prompt - you can experiment with this later, changing the last sentence to 'Respond in markdown in Spanish.\"\n",
    "\n",
    "system_prompt = \"You are an assistant that analyzes the contents of a website \\\n",
    "and provides a detailed summary, ignoring text that might be navigation related. \\\n",
    "Respond in markdown.\""
   ]
  },
  {
   "cell_type": "code",
   "execution_count": 58,
   "id": "629d2c74-9d6c-4c15-b5f6-d670d7883080",
   "metadata": {},
   "outputs": [],
   "source": [
    "# A function that writes a User Prompt that asks for summaries of websites:\n",
    "\n",
    "def user_prompt_for(website):\n",
    "    user_prompt = f\"You are looking at a website titled {website.title}\"\n",
    "    user_prompt += \"\\nThe contents of this website is as follows; \\\n",
    "                    please provide a detailed summary of this website in markdown. \\\n",
    "                    If it includes news or announcements, then summarize these too.\\n\\n\"\n",
    "    user_prompt += website.text\n",
    "    return user_prompt"
   ]
  },
  {
   "cell_type": "code",
   "execution_count": 60,
   "id": "5a1d702c-dbd1-43b2-90b4-5b6447185853",
   "metadata": {},
   "outputs": [],
   "source": [
    "# See how this function creates exactly the format above\n",
    "\n",
    "def messages_for(website):\n",
    "    return [\n",
    "        {\"role\": \"system\", \"content\": system_prompt},\n",
    "        {\"role\": \"user\", \"content\": user_prompt_for(website)}\n",
    "    ]"
   ]
  },
  {
   "cell_type": "code",
   "execution_count": 61,
   "id": "b4f7394a-7455-4efd-a727-0c75e422125c",
   "metadata": {},
   "outputs": [],
   "source": [
    "from openai import OpenAI"
   ]
  },
  {
   "cell_type": "code",
   "execution_count": 62,
   "id": "d7c3b7b5-e495-457f-8dfb-db6adf156664",
   "metadata": {},
   "outputs": [],
   "source": [
    "# Basic and a little complex way to call ollama api\n",
    "def summarize(url):\n",
    "    website = Website(url)\n",
    "    ollama_via_openai = OpenAI(base_url='http://localhost:11434/v1', api_key='ollama')\n",
    "    response = ollama_via_openai.chat.completions.create(\n",
    "        model=MODEL,\n",
    "        messages=messages_for(website)\n",
    "    )\n",
    "    return response.choices[0].message.content"
   ]
  },
  {
   "cell_type": "code",
   "execution_count": 55,
   "id": "c2394844-db62-4370-b5fa-eeb7568364f3",
   "metadata": {},
   "outputs": [],
   "source": [
    "# Easy and adavanced way\n",
    "# And now: call the Ollama function instead of OpenAI. this way it autmatically calls the endpoint, this end point was basically built for openAi but now everyone\n",
    "# uses the same end point so it automatically calls this end point using this python package built by ollama. \n",
    "\n",
    "# def summarize(url):\n",
    "#     website = Website(url)\n",
    "#     messages = messages_for(website)\n",
    "#     response = ollama.chat(model=MODEL, messages=messages)\n",
    "#     return response['message']['content']"
   ]
  },
  {
   "cell_type": "code",
   "execution_count": 56,
   "id": "77c73319-4e65-4770-968f-21e891d7c4fb",
   "metadata": {},
   "outputs": [],
   "source": [
    "# A function to display this nicely in the Jupyter output, using markdown\n",
    "\n",
    "def display_summary(url):\n",
    "    summary = summarize(url)\n",
    "    display(Markdown(summary))"
   ]
  },
  {
   "cell_type": "code",
   "execution_count": 63,
   "id": "371e44be-3187-4fdb-a6da-dbc99f3c5ccd",
   "metadata": {},
   "outputs": [
    {
     "data": {
      "text/markdown": [
       "# Vully Blues Festival Website Summary\n",
       "=====================================\n",
       "\n",
       "## Introduction\n",
       "-----------------\n",
       "\n",
       "The Vully Blues Festival website appears to be dedicated to a music festival that showcases blues music and artists.\n",
       "\n",
       "## Key Sections\n",
       "---------------\n",
       "\n",
       "### Events\n",
       "\n",
       "* The festival details:\n",
       "\t+ Vully Blues Festival 2025: November 7-8, 2025\n",
       "\t+ Des informations suivront dans le courant du mois d'août (information will be provided in the coming weeks of August)\n",
       "* Concerts de saison (Seasonal Concerts) and Festival details are currently empty\n",
       "\n",
       "### Artistes et Programme 2025 (Artists and Program 2025)\n",
       "\n",
       "* Not visible due to website limitations, but links to reserve tickets and follow sponsors are available.\n",
       "\n",
       "### Infos Pratiques (Practical Information)\n",
       "\n",
       "* Practical information is not available in the current website content.\n",
       "\n",
       "### Éditions Passées (Past Editions)\n",
       "\n",
       "* Vully Blues Festival 2024 details are mentioned\n",
       "\n",
       "### Soutien (Support)\n",
       "\n",
       "* BENEVOLES (Volunteers)\n",
       "\t+ Members\n",
       "\t+ Contact us\n",
       "* MEMBRES (Members)\n",
       "\t+ Members list not visible\n",
       "* SOUTIEN (Support)\n",
       "\t+ Donors loading...\n",
       "\t+ Sponsors loading...\n",
       "\n",
       "### Contact\n",
       "\n",
       "* Website contact information:\n",
       "\t+ Address: Chemin aux Maisonnettes 4, CH-1788 Praz\n",
       "\t+ Email: [not visible]\n",
       "\t+ Follow us (but link is not provided)\n",
       "\n",
       "## Conclusion\n",
       "----------\n",
       "\n",
       "The website seems to be in the process of updating or improving its content. Most sections are currently empty, except for a few festival details and sponsor information."
      ],
      "text/plain": [
       "<IPython.core.display.Markdown object>"
      ]
     },
     "metadata": {},
     "output_type": "display_data"
    }
   ],
   "source": [
    "display_summary(\"https://vullyblues.ch\")"
   ]
  },
  {
   "cell_type": "code",
   "execution_count": null,
   "id": "1b68e9ac-36ed-4b3d-b58a-1927d1576ab1",
   "metadata": {},
   "outputs": [],
   "source": []
  }
 ],
 "metadata": {
  "kernelspec": {
   "display_name": "Python 3 (ipykernel)",
   "language": "python",
   "name": "python3"
  },
  "language_info": {
   "codemirror_mode": {
    "name": "ipython",
    "version": 3
   },
   "file_extension": ".py",
   "mimetype": "text/x-python",
   "name": "python",
   "nbconvert_exporter": "python",
   "pygments_lexer": "ipython3",
   "version": "3.11.13"
  }
 },
 "nbformat": 4,
 "nbformat_minor": 5
}
